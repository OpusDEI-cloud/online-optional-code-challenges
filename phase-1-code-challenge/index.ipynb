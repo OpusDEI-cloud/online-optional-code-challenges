{
 "cells": [
  {
   "cell_type": "markdown",
   "metadata": {},
   "source": [
    "# Module 1 Code Challenge"
   ]
  },
  {
   "cell_type": "markdown",
   "metadata": {},
   "source": [
    "This code challenge is designed to test your understanding of the Module 1 material. It covers:\n",
    "\n",
    "- Pandas\n",
    "- Data Visualization\n",
    "- Exploring Statistical Data\n",
    "- Python Data Structures\n",
    "\n",
    "_Read the instructions carefully._ You will be asked both to write code and to respond to a few short answer questions.\n",
    "\n",
    "### Note on the short answer questions\n",
    "\n",
    "For the short answer questions _please use your own words_. The expectation is that you have **not** copied and pasted from an external source, even if you consult another source to help craft your response. While the short answer questions are not necessarily being assessed on grammatical correctness or sentence structure, you should do your best to communicate yourself clearly."
   ]
  },
  {
   "cell_type": "markdown",
   "metadata": {},
   "source": [
    "---\n",
    "## Part 1: Pandas [Suggested Time: 15 minutes]\n",
    "---"
   ]
  },
  {
   "cell_type": "markdown",
   "metadata": {},
   "source": [
    "In this section you will be doing some preprocessing for a dataset for the videogame [FIFA19](https://www.kaggle.com/karangadiya/fifa19). The dataset contains both data for the game as well as information about the players' real life careers."
   ]
  },
  {
   "cell_type": "code",
   "execution_count": 1,
   "metadata": {},
   "outputs": [],
   "source": [
    "# Run this cell without changes\n",
    "\n",
    "import pandas as pd\n",
    "import numpy as np\n",
    "import warnings\n",
    "warnings.filterwarnings('ignore')"
   ]
  },
  {
   "cell_type": "markdown",
   "metadata": {},
   "source": [
    "### 1.1) Read the CSV file into a pandas DataFrame\n",
    "\n",
    "The data you'll be working with is in a file called `'./data/fifa.csv'`. Use your knowledge of pandas to create a new DataFrame, called `df`, using the data from this CSV file. \n",
    "\n",
    "Check the contents of the first few rows of your DataFrame, then show the number of rows and columns in the DataFrame. "
   ]
  },
  {
   "cell_type": "code",
   "execution_count": 2,
   "metadata": {},
   "outputs": [],
   "source": [
    "# Replace None with appropriate code\n",
    "df = pd.read_csv('data/fifa.csv')"
   ]
  },
  {
   "cell_type": "code",
   "execution_count": 3,
   "metadata": {},
   "outputs": [
    {
     "data": {
      "application/vnd.microsoft.datawrangler.viewer.v0+json": {
       "columns": [
        {
         "name": "index",
         "rawType": "int64",
         "type": "integer"
        },
        {
         "name": "ID",
         "rawType": "int64",
         "type": "integer"
        },
        {
         "name": "Name",
         "rawType": "object",
         "type": "string"
        },
        {
         "name": "Age",
         "rawType": "int64",
         "type": "integer"
        },
        {
         "name": "Photo",
         "rawType": "object",
         "type": "string"
        },
        {
         "name": "Nationality",
         "rawType": "object",
         "type": "string"
        },
        {
         "name": "Flag",
         "rawType": "object",
         "type": "string"
        },
        {
         "name": "Overall",
         "rawType": "int64",
         "type": "integer"
        },
        {
         "name": "Potential",
         "rawType": "int64",
         "type": "integer"
        },
        {
         "name": "Club",
         "rawType": "object",
         "type": "string"
        },
        {
         "name": "Club Logo",
         "rawType": "object",
         "type": "string"
        },
        {
         "name": "Value",
         "rawType": "object",
         "type": "string"
        },
        {
         "name": "Wage",
         "rawType": "object",
         "type": "string"
        },
        {
         "name": "Special",
         "rawType": "int64",
         "type": "integer"
        },
        {
         "name": "Preferred Foot",
         "rawType": "object",
         "type": "string"
        },
        {
         "name": "International Reputation",
         "rawType": "float64",
         "type": "float"
        },
        {
         "name": "Weak Foot",
         "rawType": "float64",
         "type": "float"
        },
        {
         "name": "Skill Moves",
         "rawType": "float64",
         "type": "float"
        },
        {
         "name": "Work Rate",
         "rawType": "object",
         "type": "string"
        },
        {
         "name": "Body Type",
         "rawType": "object",
         "type": "string"
        },
        {
         "name": "Real Face",
         "rawType": "object",
         "type": "string"
        },
        {
         "name": "Position",
         "rawType": "object",
         "type": "string"
        },
        {
         "name": "Jersey Number",
         "rawType": "float64",
         "type": "float"
        },
        {
         "name": "Joined",
         "rawType": "object",
         "type": "string"
        },
        {
         "name": "Loaned From",
         "rawType": "object",
         "type": "string"
        },
        {
         "name": "Contract Valid Until",
         "rawType": "object",
         "type": "string"
        },
        {
         "name": "Height",
         "rawType": "object",
         "type": "string"
        },
        {
         "name": "Weight",
         "rawType": "object",
         "type": "string"
        },
        {
         "name": "LS",
         "rawType": "object",
         "type": "string"
        },
        {
         "name": "ST",
         "rawType": "object",
         "type": "string"
        },
        {
         "name": "RS",
         "rawType": "object",
         "type": "string"
        },
        {
         "name": "LW",
         "rawType": "object",
         "type": "string"
        },
        {
         "name": "LF",
         "rawType": "object",
         "type": "string"
        },
        {
         "name": "CF",
         "rawType": "object",
         "type": "string"
        },
        {
         "name": "RF",
         "rawType": "object",
         "type": "string"
        },
        {
         "name": "RW",
         "rawType": "object",
         "type": "string"
        },
        {
         "name": "LAM",
         "rawType": "object",
         "type": "string"
        },
        {
         "name": "CAM",
         "rawType": "object",
         "type": "string"
        },
        {
         "name": "RAM",
         "rawType": "object",
         "type": "string"
        },
        {
         "name": "LM",
         "rawType": "object",
         "type": "string"
        },
        {
         "name": "LCM",
         "rawType": "object",
         "type": "string"
        },
        {
         "name": "CM",
         "rawType": "object",
         "type": "string"
        },
        {
         "name": "RCM",
         "rawType": "object",
         "type": "string"
        },
        {
         "name": "RM",
         "rawType": "object",
         "type": "string"
        },
        {
         "name": "LWB",
         "rawType": "object",
         "type": "string"
        },
        {
         "name": "LDM",
         "rawType": "object",
         "type": "string"
        },
        {
         "name": "CDM",
         "rawType": "object",
         "type": "string"
        },
        {
         "name": "RDM",
         "rawType": "object",
         "type": "string"
        },
        {
         "name": "RWB",
         "rawType": "object",
         "type": "string"
        },
        {
         "name": "LB",
         "rawType": "object",
         "type": "string"
        },
        {
         "name": "LCB",
         "rawType": "object",
         "type": "string"
        },
        {
         "name": "CB",
         "rawType": "object",
         "type": "string"
        },
        {
         "name": "RCB",
         "rawType": "object",
         "type": "string"
        },
        {
         "name": "RB",
         "rawType": "object",
         "type": "string"
        },
        {
         "name": "Crossing",
         "rawType": "float64",
         "type": "float"
        },
        {
         "name": "Finishing",
         "rawType": "float64",
         "type": "float"
        },
        {
         "name": "HeadingAccuracy",
         "rawType": "float64",
         "type": "float"
        },
        {
         "name": "ShortPassing",
         "rawType": "float64",
         "type": "float"
        },
        {
         "name": "Volleys",
         "rawType": "float64",
         "type": "float"
        },
        {
         "name": "Dribbling",
         "rawType": "float64",
         "type": "float"
        },
        {
         "name": "Curve",
         "rawType": "float64",
         "type": "float"
        },
        {
         "name": "FKAccuracy",
         "rawType": "float64",
         "type": "float"
        },
        {
         "name": "LongPassing",
         "rawType": "float64",
         "type": "float"
        },
        {
         "name": "BallControl",
         "rawType": "float64",
         "type": "float"
        },
        {
         "name": "Acceleration",
         "rawType": "float64",
         "type": "float"
        },
        {
         "name": "SprintSpeed",
         "rawType": "float64",
         "type": "float"
        },
        {
         "name": "Agility",
         "rawType": "float64",
         "type": "float"
        },
        {
         "name": "Reactions",
         "rawType": "float64",
         "type": "float"
        },
        {
         "name": "Balance",
         "rawType": "float64",
         "type": "float"
        },
        {
         "name": "ShotPower",
         "rawType": "float64",
         "type": "float"
        },
        {
         "name": "Jumping",
         "rawType": "float64",
         "type": "float"
        },
        {
         "name": "Stamina",
         "rawType": "float64",
         "type": "float"
        },
        {
         "name": "Strength",
         "rawType": "float64",
         "type": "float"
        },
        {
         "name": "LongShots",
         "rawType": "float64",
         "type": "float"
        },
        {
         "name": "Aggression",
         "rawType": "float64",
         "type": "float"
        },
        {
         "name": "Interceptions",
         "rawType": "float64",
         "type": "float"
        },
        {
         "name": "Positioning",
         "rawType": "float64",
         "type": "float"
        },
        {
         "name": "Vision",
         "rawType": "float64",
         "type": "float"
        },
        {
         "name": "Penalties",
         "rawType": "float64",
         "type": "float"
        },
        {
         "name": "Composure",
         "rawType": "float64",
         "type": "float"
        },
        {
         "name": "Marking",
         "rawType": "float64",
         "type": "float"
        },
        {
         "name": "StandingTackle",
         "rawType": "float64",
         "type": "float"
        },
        {
         "name": "SlidingTackle",
         "rawType": "float64",
         "type": "float"
        },
        {
         "name": "GKDiving",
         "rawType": "float64",
         "type": "float"
        },
        {
         "name": "GKHandling",
         "rawType": "float64",
         "type": "float"
        },
        {
         "name": "GKKicking",
         "rawType": "float64",
         "type": "float"
        },
        {
         "name": "GKPositioning",
         "rawType": "float64",
         "type": "float"
        },
        {
         "name": "GKReflexes",
         "rawType": "float64",
         "type": "float"
        },
        {
         "name": "Release Clause",
         "rawType": "float64",
         "type": "float"
        }
       ],
       "conversionMethod": "pd.DataFrame",
       "ref": "9e56e95a-58ad-4757-a605-d149b1f46caa",
       "rows": [
        [
         "0",
         "158023",
         "L. Messi",
         "31",
         "https://cdn.sofifa.org/players/4/19/158023.png",
         "Argentina",
         "https://cdn.sofifa.org/flags/52.png",
         "94",
         "94",
         "FC Barcelona",
         "https://cdn.sofifa.org/teams/2/light/241.png",
         "€110.5M",
         "€565K",
         "2202",
         "Left",
         "5.0",
         "4.0",
         "4.0",
         "Medium/ Medium",
         "Messi",
         "Yes",
         "RF",
         "10.0",
         "Jul 1, 2004",
         null,
         "2021",
         "5'7",
         "159lbs",
         "88+2",
         "88+2",
         "88+2",
         "92+2",
         "93+2",
         "93+2",
         "93+2",
         "92+2",
         "93+2",
         "93+2",
         "93+2",
         "91+2",
         "84+2",
         "84+2",
         "84+2",
         "91+2",
         "64+2",
         "61+2",
         "61+2",
         "61+2",
         "64+2",
         "59+2",
         "47+2",
         "47+2",
         "47+2",
         "59+2",
         "84.0",
         "95.0",
         "70.0",
         "90.0",
         "86.0",
         "97.0",
         "93.0",
         "94.0",
         "87.0",
         "96.0",
         "91.0",
         "86.0",
         "91.0",
         "95.0",
         "95.0",
         "85.0",
         "68.0",
         "72.0",
         "59.0",
         "94.0",
         "48.0",
         "22.0",
         "94.0",
         "94.0",
         "75.0",
         "96.0",
         "33.0",
         "28.0",
         "26.0",
         "6.0",
         "11.0",
         "15.0",
         "14.0",
         "8.0",
         "226500.0"
        ],
        [
         "1",
         "20801",
         "Cristiano Ronaldo",
         "33",
         "https://cdn.sofifa.org/players/4/19/20801.png",
         "Portugal",
         "https://cdn.sofifa.org/flags/38.png",
         "94",
         "94",
         "Juventus",
         "https://cdn.sofifa.org/teams/2/light/45.png",
         "€77M",
         "€405K",
         "2228",
         "Right",
         "5.0",
         "4.0",
         "5.0",
         "High/ Low",
         "C. Ronaldo",
         "Yes",
         "ST",
         "7.0",
         "Jul 10, 2018",
         null,
         "2022",
         "6'2",
         "183lbs",
         "91+3",
         "91+3",
         "91+3",
         "89+3",
         "90+3",
         "90+3",
         "90+3",
         "89+3",
         "88+3",
         "88+3",
         "88+3",
         "88+3",
         "81+3",
         "81+3",
         "81+3",
         "88+3",
         "65+3",
         "61+3",
         "61+3",
         "61+3",
         "65+3",
         "61+3",
         "53+3",
         "53+3",
         "53+3",
         "61+3",
         "84.0",
         "94.0",
         "89.0",
         "81.0",
         "87.0",
         "88.0",
         "81.0",
         "76.0",
         "77.0",
         "94.0",
         "89.0",
         "91.0",
         "87.0",
         "96.0",
         "70.0",
         "95.0",
         "95.0",
         "88.0",
         "79.0",
         "93.0",
         "63.0",
         "29.0",
         "95.0",
         "82.0",
         "85.0",
         "95.0",
         "28.0",
         "31.0",
         "23.0",
         "7.0",
         "11.0",
         "15.0",
         "14.0",
         "11.0",
         "127100.0"
        ],
        [
         "2",
         "190871",
         "Neymar Jr",
         "26",
         "https://cdn.sofifa.org/players/4/19/190871.png",
         "Brazil",
         "https://cdn.sofifa.org/flags/54.png",
         "92",
         "93",
         "Paris Saint-Germain",
         "https://cdn.sofifa.org/teams/2/light/73.png",
         "€118.5M",
         "€290K",
         "2143",
         "Right",
         "5.0",
         "5.0",
         "5.0",
         "High/ Medium",
         "Neymar",
         "Yes",
         "LW",
         "10.0",
         "Aug 3, 2017",
         null,
         "2022",
         "5'9",
         "150lbs",
         "84+3",
         "84+3",
         "84+3",
         "89+3",
         "89+3",
         "89+3",
         "89+3",
         "89+3",
         "89+3",
         "89+3",
         "89+3",
         "88+3",
         "81+3",
         "81+3",
         "81+3",
         "88+3",
         "65+3",
         "60+3",
         "60+3",
         "60+3",
         "65+3",
         "60+3",
         "47+3",
         "47+3",
         "47+3",
         "60+3",
         "79.0",
         "87.0",
         "62.0",
         "84.0",
         "84.0",
         "96.0",
         "88.0",
         "87.0",
         "78.0",
         "95.0",
         "94.0",
         "90.0",
         "96.0",
         "94.0",
         "84.0",
         "80.0",
         "61.0",
         "81.0",
         "49.0",
         "82.0",
         "56.0",
         "36.0",
         "89.0",
         "87.0",
         "81.0",
         "94.0",
         "27.0",
         "24.0",
         "33.0",
         "9.0",
         "9.0",
         "15.0",
         "15.0",
         "11.0",
         "228100.0"
        ],
        [
         "3",
         "193080",
         "De Gea",
         "27",
         "https://cdn.sofifa.org/players/4/19/193080.png",
         "Spain",
         "https://cdn.sofifa.org/flags/45.png",
         "91",
         "93",
         "Manchester United",
         "https://cdn.sofifa.org/teams/2/light/11.png",
         "€72M",
         "€260K",
         "1471",
         "Right",
         "4.0",
         "3.0",
         "1.0",
         "Medium/ Medium",
         "Lean",
         "Yes",
         "GK",
         "1.0",
         "Jul 1, 2011",
         null,
         "2020",
         "6'4",
         "168lbs",
         null,
         null,
         null,
         null,
         null,
         null,
         null,
         null,
         null,
         null,
         null,
         null,
         null,
         null,
         null,
         null,
         null,
         null,
         null,
         null,
         null,
         null,
         null,
         null,
         null,
         null,
         "17.0",
         "13.0",
         "21.0",
         "50.0",
         "13.0",
         "18.0",
         "21.0",
         "19.0",
         "51.0",
         "42.0",
         "57.0",
         "58.0",
         "60.0",
         "90.0",
         "43.0",
         "31.0",
         "67.0",
         "43.0",
         "64.0",
         "12.0",
         "38.0",
         "30.0",
         "12.0",
         "68.0",
         "40.0",
         "68.0",
         "15.0",
         "21.0",
         "13.0",
         "90.0",
         "85.0",
         "87.0",
         "88.0",
         "94.0",
         "138600.0"
        ],
        [
         "4",
         "192985",
         "K. De Bruyne",
         "27",
         "https://cdn.sofifa.org/players/4/19/192985.png",
         "Belgium",
         "https://cdn.sofifa.org/flags/7.png",
         "91",
         "92",
         "Manchester City",
         "https://cdn.sofifa.org/teams/2/light/10.png",
         "€102M",
         "€355K",
         "2281",
         "Right",
         "4.0",
         "5.0",
         "4.0",
         "High/ High",
         "Normal",
         "Yes",
         "RCM",
         "7.0",
         "Aug 30, 2015",
         null,
         "2023",
         "5'11",
         "154lbs",
         "82+3",
         "82+3",
         "82+3",
         "87+3",
         "87+3",
         "87+3",
         "87+3",
         "87+3",
         "88+3",
         "88+3",
         "88+3",
         "88+3",
         "87+3",
         "87+3",
         "87+3",
         "88+3",
         "77+3",
         "77+3",
         "77+3",
         "77+3",
         "77+3",
         "73+3",
         "66+3",
         "66+3",
         "66+3",
         "73+3",
         "93.0",
         "82.0",
         "55.0",
         "92.0",
         "82.0",
         "86.0",
         "85.0",
         "83.0",
         "91.0",
         "91.0",
         "78.0",
         "76.0",
         "79.0",
         "91.0",
         "77.0",
         "91.0",
         "63.0",
         "90.0",
         "75.0",
         "91.0",
         "76.0",
         "61.0",
         "87.0",
         "94.0",
         "79.0",
         "88.0",
         "68.0",
         "58.0",
         "51.0",
         "15.0",
         "13.0",
         "5.0",
         "10.0",
         "13.0",
         "196400.0"
        ]
       ],
       "shape": {
        "columns": 88,
        "rows": 5
       }
      },
      "text/html": [
       "<div>\n",
       "<style scoped>\n",
       "    .dataframe tbody tr th:only-of-type {\n",
       "        vertical-align: middle;\n",
       "    }\n",
       "\n",
       "    .dataframe tbody tr th {\n",
       "        vertical-align: top;\n",
       "    }\n",
       "\n",
       "    .dataframe thead th {\n",
       "        text-align: right;\n",
       "    }\n",
       "</style>\n",
       "<table border=\"1\" class=\"dataframe\">\n",
       "  <thead>\n",
       "    <tr style=\"text-align: right;\">\n",
       "      <th></th>\n",
       "      <th>ID</th>\n",
       "      <th>Name</th>\n",
       "      <th>Age</th>\n",
       "      <th>Photo</th>\n",
       "      <th>Nationality</th>\n",
       "      <th>Flag</th>\n",
       "      <th>Overall</th>\n",
       "      <th>Potential</th>\n",
       "      <th>Club</th>\n",
       "      <th>Club Logo</th>\n",
       "      <th>...</th>\n",
       "      <th>Composure</th>\n",
       "      <th>Marking</th>\n",
       "      <th>StandingTackle</th>\n",
       "      <th>SlidingTackle</th>\n",
       "      <th>GKDiving</th>\n",
       "      <th>GKHandling</th>\n",
       "      <th>GKKicking</th>\n",
       "      <th>GKPositioning</th>\n",
       "      <th>GKReflexes</th>\n",
       "      <th>Release Clause</th>\n",
       "    </tr>\n",
       "  </thead>\n",
       "  <tbody>\n",
       "    <tr>\n",
       "      <th>0</th>\n",
       "      <td>158023</td>\n",
       "      <td>L. Messi</td>\n",
       "      <td>31</td>\n",
       "      <td>https://cdn.sofifa.org/players/4/19/158023.png</td>\n",
       "      <td>Argentina</td>\n",
       "      <td>https://cdn.sofifa.org/flags/52.png</td>\n",
       "      <td>94</td>\n",
       "      <td>94</td>\n",
       "      <td>FC Barcelona</td>\n",
       "      <td>https://cdn.sofifa.org/teams/2/light/241.png</td>\n",
       "      <td>...</td>\n",
       "      <td>96.0</td>\n",
       "      <td>33.0</td>\n",
       "      <td>28.0</td>\n",
       "      <td>26.0</td>\n",
       "      <td>6.0</td>\n",
       "      <td>11.0</td>\n",
       "      <td>15.0</td>\n",
       "      <td>14.0</td>\n",
       "      <td>8.0</td>\n",
       "      <td>226500.0</td>\n",
       "    </tr>\n",
       "    <tr>\n",
       "      <th>1</th>\n",
       "      <td>20801</td>\n",
       "      <td>Cristiano Ronaldo</td>\n",
       "      <td>33</td>\n",
       "      <td>https://cdn.sofifa.org/players/4/19/20801.png</td>\n",
       "      <td>Portugal</td>\n",
       "      <td>https://cdn.sofifa.org/flags/38.png</td>\n",
       "      <td>94</td>\n",
       "      <td>94</td>\n",
       "      <td>Juventus</td>\n",
       "      <td>https://cdn.sofifa.org/teams/2/light/45.png</td>\n",
       "      <td>...</td>\n",
       "      <td>95.0</td>\n",
       "      <td>28.0</td>\n",
       "      <td>31.0</td>\n",
       "      <td>23.0</td>\n",
       "      <td>7.0</td>\n",
       "      <td>11.0</td>\n",
       "      <td>15.0</td>\n",
       "      <td>14.0</td>\n",
       "      <td>11.0</td>\n",
       "      <td>127100.0</td>\n",
       "    </tr>\n",
       "    <tr>\n",
       "      <th>2</th>\n",
       "      <td>190871</td>\n",
       "      <td>Neymar Jr</td>\n",
       "      <td>26</td>\n",
       "      <td>https://cdn.sofifa.org/players/4/19/190871.png</td>\n",
       "      <td>Brazil</td>\n",
       "      <td>https://cdn.sofifa.org/flags/54.png</td>\n",
       "      <td>92</td>\n",
       "      <td>93</td>\n",
       "      <td>Paris Saint-Germain</td>\n",
       "      <td>https://cdn.sofifa.org/teams/2/light/73.png</td>\n",
       "      <td>...</td>\n",
       "      <td>94.0</td>\n",
       "      <td>27.0</td>\n",
       "      <td>24.0</td>\n",
       "      <td>33.0</td>\n",
       "      <td>9.0</td>\n",
       "      <td>9.0</td>\n",
       "      <td>15.0</td>\n",
       "      <td>15.0</td>\n",
       "      <td>11.0</td>\n",
       "      <td>228100.0</td>\n",
       "    </tr>\n",
       "    <tr>\n",
       "      <th>3</th>\n",
       "      <td>193080</td>\n",
       "      <td>De Gea</td>\n",
       "      <td>27</td>\n",
       "      <td>https://cdn.sofifa.org/players/4/19/193080.png</td>\n",
       "      <td>Spain</td>\n",
       "      <td>https://cdn.sofifa.org/flags/45.png</td>\n",
       "      <td>91</td>\n",
       "      <td>93</td>\n",
       "      <td>Manchester United</td>\n",
       "      <td>https://cdn.sofifa.org/teams/2/light/11.png</td>\n",
       "      <td>...</td>\n",
       "      <td>68.0</td>\n",
       "      <td>15.0</td>\n",
       "      <td>21.0</td>\n",
       "      <td>13.0</td>\n",
       "      <td>90.0</td>\n",
       "      <td>85.0</td>\n",
       "      <td>87.0</td>\n",
       "      <td>88.0</td>\n",
       "      <td>94.0</td>\n",
       "      <td>138600.0</td>\n",
       "    </tr>\n",
       "    <tr>\n",
       "      <th>4</th>\n",
       "      <td>192985</td>\n",
       "      <td>K. De Bruyne</td>\n",
       "      <td>27</td>\n",
       "      <td>https://cdn.sofifa.org/players/4/19/192985.png</td>\n",
       "      <td>Belgium</td>\n",
       "      <td>https://cdn.sofifa.org/flags/7.png</td>\n",
       "      <td>91</td>\n",
       "      <td>92</td>\n",
       "      <td>Manchester City</td>\n",
       "      <td>https://cdn.sofifa.org/teams/2/light/10.png</td>\n",
       "      <td>...</td>\n",
       "      <td>88.0</td>\n",
       "      <td>68.0</td>\n",
       "      <td>58.0</td>\n",
       "      <td>51.0</td>\n",
       "      <td>15.0</td>\n",
       "      <td>13.0</td>\n",
       "      <td>5.0</td>\n",
       "      <td>10.0</td>\n",
       "      <td>13.0</td>\n",
       "      <td>196400.0</td>\n",
       "    </tr>\n",
       "  </tbody>\n",
       "</table>\n",
       "<p>5 rows × 88 columns</p>\n",
       "</div>"
      ],
      "text/plain": [
       "       ID               Name  Age  \\\n",
       "0  158023           L. Messi   31   \n",
       "1   20801  Cristiano Ronaldo   33   \n",
       "2  190871          Neymar Jr   26   \n",
       "3  193080             De Gea   27   \n",
       "4  192985       K. De Bruyne   27   \n",
       "\n",
       "                                            Photo Nationality  \\\n",
       "0  https://cdn.sofifa.org/players/4/19/158023.png   Argentina   \n",
       "1   https://cdn.sofifa.org/players/4/19/20801.png    Portugal   \n",
       "2  https://cdn.sofifa.org/players/4/19/190871.png      Brazil   \n",
       "3  https://cdn.sofifa.org/players/4/19/193080.png       Spain   \n",
       "4  https://cdn.sofifa.org/players/4/19/192985.png     Belgium   \n",
       "\n",
       "                                  Flag  Overall  Potential  \\\n",
       "0  https://cdn.sofifa.org/flags/52.png       94         94   \n",
       "1  https://cdn.sofifa.org/flags/38.png       94         94   \n",
       "2  https://cdn.sofifa.org/flags/54.png       92         93   \n",
       "3  https://cdn.sofifa.org/flags/45.png       91         93   \n",
       "4   https://cdn.sofifa.org/flags/7.png       91         92   \n",
       "\n",
       "                  Club                                     Club Logo  ...  \\\n",
       "0         FC Barcelona  https://cdn.sofifa.org/teams/2/light/241.png  ...   \n",
       "1             Juventus   https://cdn.sofifa.org/teams/2/light/45.png  ...   \n",
       "2  Paris Saint-Germain   https://cdn.sofifa.org/teams/2/light/73.png  ...   \n",
       "3    Manchester United   https://cdn.sofifa.org/teams/2/light/11.png  ...   \n",
       "4      Manchester City   https://cdn.sofifa.org/teams/2/light/10.png  ...   \n",
       "\n",
       "  Composure Marking  StandingTackle SlidingTackle  GKDiving  GKHandling  \\\n",
       "0      96.0    33.0            28.0          26.0       6.0        11.0   \n",
       "1      95.0    28.0            31.0          23.0       7.0        11.0   \n",
       "2      94.0    27.0            24.0          33.0       9.0         9.0   \n",
       "3      68.0    15.0            21.0          13.0      90.0        85.0   \n",
       "4      88.0    68.0            58.0          51.0      15.0        13.0   \n",
       "\n",
       "   GKKicking GKPositioning GKReflexes Release Clause  \n",
       "0       15.0          14.0        8.0       226500.0  \n",
       "1       15.0          14.0       11.0       127100.0  \n",
       "2       15.0          15.0       11.0       228100.0  \n",
       "3       87.0          88.0       94.0       138600.0  \n",
       "4        5.0          10.0       13.0       196400.0  \n",
       "\n",
       "[5 rows x 88 columns]"
      ]
     },
     "execution_count": 3,
     "metadata": {},
     "output_type": "execute_result"
    }
   ],
   "source": [
    "# Code here to check the first few rows of the DataFrame\n",
    "df.head()"
   ]
  },
  {
   "cell_type": "code",
   "execution_count": 4,
   "metadata": {},
   "outputs": [
    {
     "data": {
      "text/plain": [
       "(18207, 88)"
      ]
     },
     "execution_count": 4,
     "metadata": {},
     "output_type": "execute_result"
    }
   ],
   "source": [
    "# Code here to see the number of rows and columns in the DataFrame\n",
    "df.shape"
   ]
  },
  {
   "cell_type": "markdown",
   "metadata": {},
   "source": [
    "### 1.2) Drop rows from the DataFrame with missing values for `'Release Clause'`\n",
    "    \n",
    "Drop rows from the DataFrame for which \"Release Clause\" is missing. This is part of a soccer player's contract dealing with being bought out by another team. After you have dropped them, see how many rows are remaining in the DataFrame."
   ]
  },
  {
   "cell_type": "code",
   "execution_count": 5,
   "metadata": {},
   "outputs": [],
   "source": [
    "# Code here to drop rows from the DataFrame with missing values for 'Release Clause'\n",
    "df.dropna(subset=['Release Clause'], inplace= True)"
   ]
  },
  {
   "cell_type": "code",
   "execution_count": 6,
   "metadata": {},
   "outputs": [
    {
     "data": {
      "text/plain": [
       "(16643, 88)"
      ]
     },
     "execution_count": 6,
     "metadata": {},
     "output_type": "execute_result"
    }
   ],
   "source": [
    "# Code here to check how many rows are left in the DataFrame\n",
    "df.shape"
   ]
  },
  {
   "cell_type": "markdown",
   "metadata": {},
   "source": [
    "### 1.3) Convert the `'Release Clause'` Price from Euros to Dollars\n",
    "\n",
    "Now that there are no missing values, we can change the values in the `'Release Clause'` column from Euro to Dollar amounts.\n",
    "\n",
    "Assume the current exchange rate is `1 Euro = 1.2 Dollars`"
   ]
  },
  {
   "cell_type": "code",
   "execution_count": 7,
   "metadata": {},
   "outputs": [
    {
     "data": {
      "text/plain": [
       "0    271800.0\n",
       "1    152520.0\n",
       "2    273720.0\n",
       "3    166320.0\n",
       "4    235680.0\n",
       "Name: Release Clause, dtype: float64"
      ]
     },
     "execution_count": 7,
     "metadata": {},
     "output_type": "execute_result"
    }
   ],
   "source": [
    "# Code here to convert the column of euros to dollars\n",
    "df['Release Clause']= df['Release Clause'].map(lambda x: x*1.2)\n",
    "df['Release Clause'].head()"
   ]
  },
  {
   "cell_type": "markdown",
   "metadata": {},
   "source": [
    "---\n",
    "## Part 2: Data Visualization [Suggested Time: 20 minutes]\n",
    "---"
   ]
  },
  {
   "cell_type": "markdown",
   "metadata": {},
   "source": [
    "Continuing to use the same FIFA dataset, plot data using whichever plotting library you are most comfortable with."
   ]
  },
  {
   "cell_type": "code",
   "execution_count": 8,
   "metadata": {},
   "outputs": [],
   "source": [
    "# Run this cell without changes\n",
    "\n",
    "import matplotlib.pyplot as plt\n",
    "import seaborn as sns\n",
    "%matplotlib inline"
   ]
  },
  {
   "cell_type": "markdown",
   "metadata": {},
   "source": [
    "### 2.1) Find the top 10 countries with the most players (using the `'Nationality'` column). Create a bar chart showing the number of players from those 10 countries.\n",
    "\n",
    "Don't forget to add a **title** and **x axis label** to your charts.\n",
    "\n",
    "If you are unable to find the top 10 countries but want the chance to demonstrate your plotting skills use the following dummy data to create a bar chart: \n",
    "\n",
    "```\n",
    "Country Name  | Num Players\n",
    "============  | ===========\n",
    "Country A     | 100\n",
    "Country B     | 60\n",
    "Country C     | 125\n",
    "Country D     | 89\n",
    "```"
   ]
  },
  {
   "cell_type": "code",
   "execution_count": 9,
   "metadata": {},
   "outputs": [
    {
     "name": "stdout",
     "output_type": "stream",
     "text": [
      "England        1475\n",
      "Germany        1151\n",
      "Spain           974\n",
      "France          853\n",
      "Argentina       833\n",
      "Brazil          788\n",
      "Italy           579\n",
      "Colombia        570\n",
      "Japan           455\n",
      "Netherlands     426\n",
      "Name: Nationality, dtype: int64\n"
     ]
    }
   ],
   "source": [
    "# Code here to get the top 10 countries with the most players\n",
    "top_10_countries= df['Nationality'].value_counts().head(10)\n",
    "print(top_10_countries)"
   ]
  },
  {
   "cell_type": "code",
   "execution_count": 10,
   "metadata": {},
   "outputs": [
    {
     "data": {
      "image/png": "[encoded data removed]",
      "text/plain": [
       "<Figure size 720x432 with 1 Axes>"
      ]
     },
     "metadata": {
      "needs_background": "light"
     },
     "output_type": "display_data"
    }
   ],
   "source": [
    "# Code here to plot a bar chart.  A recommended figsize is (10, 6)\n",
    "fig, ax = plt.subplots(figsize=(10,6))\n",
    "ax.bar(top_10_countries.index[:10],top_10_countries.values[:10])\n",
    "ax.set_title('Bar Chart of Top 10 Countries with Most Players in FIFA')\n",
    "ax.set_xlabel('Country Name')\n",
    "ax.set_ylabel('Num of Players')\n",
    "\n",
    "plt.tight_layout()\n",
    "plt.show();\n"
   ]
  },
  {
   "cell_type": "markdown",
   "metadata": {},
   "source": [
    "### 2.2) Describe the relationship between `StandingTackle` and `SlidingTackle`, as shown in the scatter plot produced below."
   ]
  },
  {
   "cell_type": "code",
   "execution_count": 11,
   "metadata": {},
   "outputs": [
    {
     "data": {
      "text/plain": [
       "<matplotlib.collections.PathCollection at 0x1d183738d60>"
      ]
     },
     "execution_count": 11,
     "metadata": {},
     "output_type": "execute_result"
    },
    {
     "data": {
      "image/png": "[encoded data removed]",
      "text/plain": [
       "<Figure size 432x288 with 1 Axes>"
      ]
     },
     "metadata": {
      "needs_background": "light"
     },
     "output_type": "display_data"
    }
   ],
   "source": [
    "# Run this cell without changes\n",
    "\n",
    "fig, ax = plt.subplots()\n",
    "\n",
    "ax.set_title('Standing Tackle vs. Sliding Tackle')\n",
    "ax.set_xlabel('Standing Tackle')\n",
    "ax.set_ylabel('Sliding Tackle')\n",
    "\n",
    "x = df['StandingTackle']\n",
    "y = df['SlidingTackle']\n",
    "\n",
    "ax.scatter(x, y)"
   ]
  },
  {
   "cell_type": "markdown",
   "metadata": {},
   "source": [
    "Please describe in words the relationship between these two features."
   ]
  },
  {
   "cell_type": "code",
   "execution_count": 12,
   "metadata": {},
   "outputs": [
    {
     "data": {
      "text/plain": [
       "' The scatter plot shows a positive linear relationship between Standing Tackle and Sliding Tackle. This means that players who are good at standing tackles tend to also be good at sliding tackles. The points are closely clustered along a diagonal line, indicating a strong correlation between the two attributes. However, there is some variability, as not all points lie perfectly on the line.'"
      ]
     },
     "execution_count": 12,
     "metadata": {},
     "output_type": "execute_result"
    }
   ],
   "source": [
    "# Your written answer here\n",
    "''' The scatter plot shows a positive linear relationship between Standing Tackle and Sliding Tackle. This means that players who are good at standing tackles tend to also be good at sliding tackles. The points are closely clustered along a diagonal line, indicating a strong correlation between the two attributes. However, there is some variability, as not all points lie perfectly on the line.'''"
   ]
  },
  {
   "cell_type": "markdown",
   "metadata": {},
   "source": [
    "---\n",
    "## Part 3: Exploring Statistical Data [Suggested Time: 20 minutes]\n",
    "---"
   ]
  },
  {
   "cell_type": "markdown",
   "metadata": {},
   "source": [
    "### 3.1) What are the mean age and the median age for the players in this dataset?"
   ]
  },
  {
   "cell_type": "code",
   "execution_count": 13,
   "metadata": {},
   "outputs": [
    {
     "name": "stdout",
     "output_type": "stream",
     "text": [
      "Mean Age:25.226221234152497\n",
      "Median Age:25.0\n"
     ]
    }
   ],
   "source": [
    "# Code here to find the mean age and median age\n",
    "mean_age= df['Age'].mean()\n",
    "median_age= df.Age.median()\n",
    "print(f'Mean Age:{mean_age}')\n",
    "print(f'Median Age:{median_age}')\n"
   ]
  },
  {
   "cell_type": "markdown",
   "metadata": {},
   "source": [
    "In your own words, how are the mean and median related to each other and what do these values tell us about the distribution of the column `'Age'`? "
   ]
  },
  {
   "cell_type": "code",
   "execution_count": 14,
   "metadata": {},
   "outputs": [
    {
     "data": {
      "text/plain": [
       "'\\nThe Mean and the Median Age are close.\\nThis shows that the Age distribution \\nof the players is likely symmetrical.\\n'"
      ]
     },
     "execution_count": 14,
     "metadata": {},
     "output_type": "execute_result"
    }
   ],
   "source": [
    "# Your written answer here\n",
    "'''\n",
    "The Mean and the Median Age are close.\n",
    "This shows that the Age distribution \n",
    "of the players is likely symmetrical.\n",
    "'''"
   ]
  },
  {
   "cell_type": "markdown",
   "metadata": {},
   "source": [
    "### 3.2) Who is the oldest player from Argentina and how old is he?\n",
    "Use the `Nationality` column."
   ]
  },
  {
   "cell_type": "code",
   "execution_count": 15,
   "metadata": {},
   "outputs": [
    {
     "name": "stdout",
     "output_type": "stream",
     "text": [
      "The oldest Argentine player is C. Muñoz, aged 41\n"
     ]
    }
   ],
   "source": [
    "# Code here to find the oldest player in Argentina\n",
    "df_Argentina= df[df['Nationality']== 'Argentina'].copy()\n",
    "#oldest_player= df_Argentina.loc[df_Argentina['Age'].idxmax(),\n",
    "#                                ['Name', 'Age']]\n",
    "#print(oldest_player)\n",
    "oldest_argentine = df_Argentina.sort_values(by='Age', ascending=False).iloc[0]\n",
    "print(f\"The oldest Argentine player is {oldest_argentine['Name']}, aged {oldest_argentine['Age']}\")\n",
    "\n"
   ]
  },
  {
   "cell_type": "code",
   "execution_count": 16,
   "metadata": {},
   "outputs": [
    {
     "data": {
      "text/plain": [
       "' The oldest Argentine player is C.Munoz, aged 41 years'"
      ]
     },
     "execution_count": 16,
     "metadata": {},
     "output_type": "execute_result"
    }
   ],
   "source": [
    "# Your written answer here\n",
    "''' The oldest Argentine player is C.Munoz, aged 41 years'''\n"
   ]
  },
  {
   "cell_type": "markdown",
   "metadata": {},
   "source": [
    "---\n",
    "## Part 4: Python Data Structures [Suggested Time: 20 min]\n",
    "---"
   ]
  },
  {
   "cell_type": "markdown",
   "metadata": {},
   "source": [
    "In this final section, we will work with various Python data types and try to accomplish certain tasks using some fundamental data structures in Python, rather than using Pandas DataFrames. Below, we've defined a dictionary with soccer player names as keys for nested dictionaries containing information about each player's age, nationality, and a list of teams they have played for."
   ]
  },
  {
   "cell_type": "code",
   "execution_count": 18,
   "metadata": {},
   "outputs": [],
   "source": [
    "# Run this cell without changes\n",
    "\n",
    "players = {\n",
    "    'L. Messi': {\n",
    "        'age': 31,\n",
    "        'nationality': 'Argentina',\n",
    "        'teams': ['Barcelona']\n",
    "    },\n",
    "    'Cristiano Ronaldo': {\n",
    "        'age': 33,\n",
    "        'nationality': 'Portugal',\n",
    "        'teams': ['Juventus', 'Real Madrid', 'Manchester United']\n",
    "    },\n",
    "    'Neymar Jr': {\n",
    "        'age': 26,\n",
    "        'nationality': 'Brazil',\n",
    "        'teams': ['Santos', 'Barcelona', 'Paris Saint-German']\n",
    "    },\n",
    "    'De Gea': {\n",
    "        'age': 27,\n",
    "        'nationality': 'Spain',\n",
    "        'teams': ['Atletico Madrid', 'Manchester United']\n",
    "    },\n",
    "    'K. De Bruyne': {\n",
    "        'age': 27,\n",
    "        'nationality': 'Belgium',\n",
    "        'teams': ['Chelsea', 'Manchester City']\n",
    "    }\n",
    "}"
   ]
  },
  {
   "cell_type": "markdown",
   "metadata": {},
   "source": [
    "### 4.1) Create a `list` of all the keys in the `players` dictionary. Store the list of player names in a variable called `player_names` to use in the next question.\n",
    "\n",
    "Use [Python's documentation on dictionaries](https://docs.python.org/3/tutorial/datastructures.html#dictionaries) for help if needed. "
   ]
  },
  {
   "cell_type": "code",
   "execution_count": 19,
   "metadata": {},
   "outputs": [],
   "source": [
    "# Replace None with appropriate code to get the list of all player names\n",
    "\n",
    "player_names = [name for name in players]"
   ]
  },
  {
   "cell_type": "code",
   "execution_count": 20,
   "metadata": {},
   "outputs": [
    {
     "name": "stdout",
     "output_type": "stream",
     "text": [
      "['L. Messi', 'Cristiano Ronaldo', 'Neymar Jr', 'De Gea', 'K. De Bruyne']\n"
     ]
    }
   ],
   "source": [
    "# Run this cell without changes to check your answer\n",
    "\n",
    "print(player_names)"
   ]
  },
  {
   "cell_type": "markdown",
   "metadata": {},
   "source": [
    "### 4.2) Great! Now that we have the names of all players, let's use that information to create a `list` of `tuples` containing each player's name along with their nationality. Store the list in a variable called `player_nationalities`."
   ]
  },
  {
   "cell_type": "code",
   "execution_count": 21,
   "metadata": {},
   "outputs": [],
   "source": [
    "# Replace None with appropriate code to generate list of tuples such that \n",
    "# the first element is a players name and the second is their nationality \n",
    "# Ex: [('L. Messi', 'Argentina'), ('Christiano Ronaldo', 'Portugal'), ...]\n",
    "\n",
    "player_nationalities = [(name, players[name]['nationality']) for name in players.keys()]"
   ]
  },
  {
   "cell_type": "code",
   "execution_count": 22,
   "metadata": {},
   "outputs": [
    {
     "name": "stdout",
     "output_type": "stream",
     "text": [
      "[('L. Messi', 'Argentina'), ('Cristiano Ronaldo', 'Portugal'), ('Neymar Jr', 'Brazil'), ('De Gea', 'Spain'), ('K. De Bruyne', 'Belgium')]\n"
     ]
    }
   ],
   "source": [
    "# Run this cell without changes to check your answer\n",
    "\n",
    "print(player_nationalities)"
   ]
  },
  {
   "cell_type": "markdown",
   "metadata": {},
   "source": [
    "### 4.3) Define a function called `get_players_on_team()` that returns a `list` of the names of all the players who have played on a given team.\n",
    "\n",
    "Your function should take two arguments: \n",
    "\n",
    "- a dictionary of player information\n",
    "- the team name (as a `string`) you are trying to find the players for \n",
    "\n",
    "**Be sure that your function has a `return` statement.**"
   ]
  },
  {
   "cell_type": "code",
   "execution_count": 25,
   "metadata": {},
   "outputs": [],
   "source": [
    "# Function to get players who have played on a given team\n",
    "def get_players_on_team(players_dict, team_name):\n",
    "    \"\"\"\n",
    "    Returns a list of player names who have played on the given team.\n",
    "    \"\"\"\n",
    "    players_on_team = []\n",
    "    for player, details in players_dict.items():\n",
    "        if team_name in details['teams']:\n",
    "            players_on_team.append(player)\n",
    "    return players_on_team"
   ]
  },
  {
   "cell_type": "code",
   "execution_count": 26,
   "metadata": {},
   "outputs": [
    {
     "name": "stdout",
     "output_type": "stream",
     "text": [
      "['Cristiano Ronaldo', 'De Gea']\n"
     ]
    }
   ],
   "source": [
    "# Run this cell without changes to check your answer\n",
    "\n",
    "players_on_manchester_united = get_players_on_team(players, 'Manchester United')\n",
    "print(players_on_manchester_united)"
   ]
  },
  {
   "cell_type": "code",
   "execution_count": 27,
   "metadata": {},
   "outputs": [],
   "source": [
    "def get_players_on_team(players_dict, team_name):\n",
    "    \"\"\"\n",
    "    Returns a list of player names who have played on the given team.\n",
    "    \"\"\"\n",
    "    return [player for player, details in players_dict.items() if team_name in details['teams']]\n"
   ]
  },
  {
   "cell_type": "code",
   "execution_count": 28,
   "metadata": {},
   "outputs": [
    {
     "name": "stdout",
     "output_type": "stream",
     "text": [
      "['Cristiano Ronaldo', 'De Gea']\n"
     ]
    }
   ],
   "source": [
    "# Run this cell without changes to check your answer\n",
    "\n",
    "players_on_manchester_united = get_players_on_team(players, 'Manchester United')\n",
    "print(players_on_manchester_united)"
   ]
  }
 ],
 "metadata": {
  "kernelspec": {
   "display_name": "learn-env",
   "language": "python",
   "name": "python3"
  },
  "language_info": {
   "codemirror_mode": {
    "name": "ipython",
    "version": 3
   },
   "file_extension": ".py",
   "mimetype": "text/x-python",
   "name": "python",
   "nbconvert_exporter": "python",
   "pygments_lexer": "ipython3",
   "version": "3.8.5"
  }
 },
 "nbformat": 4,
 "nbformat_minor": 4
}
